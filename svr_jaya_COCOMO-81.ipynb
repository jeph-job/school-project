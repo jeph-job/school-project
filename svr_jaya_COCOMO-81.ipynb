{
 "cells": [
  {
   "cell_type": "markdown",
   "id": "89d7b6db-a0d3-4108-87f6-2d595e534649",
   "metadata": {},
   "source": [
    "# About the project\n",
    "The work is all about tackling software effort prediction (SEP) and software test prediction (STP) (i.e., software reliability problems) by integrating a metaheuristicm algorith with a ML model to optimize the model's parameters.\n",
    "Here JAYA algorithm is used in other to improve a Support Vector Regressor SVR model's predictions (predicting the Software effort). Using the Jaya algorithm to optimize the SVR parameters (C, epsilon, gamma).\n",
    "\n",
    "- The final goal of the project is to compare the results gotten with the results published in a paper by  Sofian Kassaymeh, Salwani Abdullah, Mohamad Al-Laham and others, titled: Salp Swarm Optimizer for Modeling Software Reliability Prediction Problem.\n",
    "- The same datasets are used."
   ]
  },
  {
   "cell_type": "code",
   "execution_count": 1,
   "id": "ebd816bb-5957-4822-942d-3c1efaf710aa",
   "metadata": {},
   "outputs": [],
   "source": [
    "# Importing libraries\n",
    "import numpy as np\n",
    "import pandas as pd\n",
    "import matplotlib.pyplot as plt\n",
    "from sklearn.model_selection import train_test_split\n",
    "from sklearn.preprocessing import StandardScaler\n",
    "from sklearn.svm import SVR\n",
    "from sklearn.metrics import mean_squared_error"
   ]
  },
  {
   "cell_type": "code",
   "execution_count": 2,
   "id": "c69de19c-b9ae-4b2c-b8bf-e1d496e3d15e",
   "metadata": {},
   "outputs": [
    {
     "data": {
      "text/html": [
       "<div>\n",
       "<style scoped>\n",
       "    .dataframe tbody tr th:only-of-type {\n",
       "        vertical-align: middle;\n",
       "    }\n",
       "\n",
       "    .dataframe tbody tr th {\n",
       "        vertical-align: top;\n",
       "    }\n",
       "\n",
       "    .dataframe thead th {\n",
       "        text-align: right;\n",
       "    }\n",
       "</style>\n",
       "<table border=\"1\" class=\"dataframe\">\n",
       "  <thead>\n",
       "    <tr style=\"text-align: right;\">\n",
       "      <th></th>\n",
       "      <th>rely</th>\n",
       "      <th>data</th>\n",
       "      <th>cplx</th>\n",
       "      <th>time</th>\n",
       "      <th>stor</th>\n",
       "      <th>virt</th>\n",
       "      <th>turn</th>\n",
       "      <th>acap</th>\n",
       "      <th>aexp</th>\n",
       "      <th>pcap</th>\n",
       "      <th>vexp</th>\n",
       "      <th>lexp</th>\n",
       "      <th>modp</th>\n",
       "      <th>tool</th>\n",
       "      <th>sced</th>\n",
       "      <th>loc</th>\n",
       "      <th>actual</th>\n",
       "    </tr>\n",
       "  </thead>\n",
       "  <tbody>\n",
       "    <tr>\n",
       "      <th>0</th>\n",
       "      <td>0.88</td>\n",
       "      <td>1.16</td>\n",
       "      <td>0.70</td>\n",
       "      <td>1.0</td>\n",
       "      <td>1.06</td>\n",
       "      <td>1.15</td>\n",
       "      <td>1.07</td>\n",
       "      <td>1.19</td>\n",
       "      <td>1.13</td>\n",
       "      <td>1.17</td>\n",
       "      <td>1.1</td>\n",
       "      <td>1.00</td>\n",
       "      <td>1.24</td>\n",
       "      <td>1.10</td>\n",
       "      <td>1.04</td>\n",
       "      <td>113.0</td>\n",
       "      <td>2040.0</td>\n",
       "    </tr>\n",
       "    <tr>\n",
       "      <th>1</th>\n",
       "      <td>0.88</td>\n",
       "      <td>1.16</td>\n",
       "      <td>0.85</td>\n",
       "      <td>1.0</td>\n",
       "      <td>1.06</td>\n",
       "      <td>1.00</td>\n",
       "      <td>1.07</td>\n",
       "      <td>1.00</td>\n",
       "      <td>0.91</td>\n",
       "      <td>1.00</td>\n",
       "      <td>0.9</td>\n",
       "      <td>0.95</td>\n",
       "      <td>1.10</td>\n",
       "      <td>1.00</td>\n",
       "      <td>1.00</td>\n",
       "      <td>293.0</td>\n",
       "      <td>1600.0</td>\n",
       "    </tr>\n",
       "    <tr>\n",
       "      <th>2</th>\n",
       "      <td>1.00</td>\n",
       "      <td>1.16</td>\n",
       "      <td>0.85</td>\n",
       "      <td>1.0</td>\n",
       "      <td>1.00</td>\n",
       "      <td>0.87</td>\n",
       "      <td>0.94</td>\n",
       "      <td>0.86</td>\n",
       "      <td>0.82</td>\n",
       "      <td>0.86</td>\n",
       "      <td>0.9</td>\n",
       "      <td>0.95</td>\n",
       "      <td>0.91</td>\n",
       "      <td>0.91</td>\n",
       "      <td>1.00</td>\n",
       "      <td>132.0</td>\n",
       "      <td>243.0</td>\n",
       "    </tr>\n",
       "    <tr>\n",
       "      <th>3</th>\n",
       "      <td>0.75</td>\n",
       "      <td>1.16</td>\n",
       "      <td>0.70</td>\n",
       "      <td>1.0</td>\n",
       "      <td>1.00</td>\n",
       "      <td>0.87</td>\n",
       "      <td>1.00</td>\n",
       "      <td>1.19</td>\n",
       "      <td>0.91</td>\n",
       "      <td>1.42</td>\n",
       "      <td>1.0</td>\n",
       "      <td>0.95</td>\n",
       "      <td>1.24</td>\n",
       "      <td>1.00</td>\n",
       "      <td>1.04</td>\n",
       "      <td>60.0</td>\n",
       "      <td>240.0</td>\n",
       "    </tr>\n",
       "    <tr>\n",
       "      <th>4</th>\n",
       "      <td>0.88</td>\n",
       "      <td>0.94</td>\n",
       "      <td>1.00</td>\n",
       "      <td>1.0</td>\n",
       "      <td>1.00</td>\n",
       "      <td>0.87</td>\n",
       "      <td>1.00</td>\n",
       "      <td>1.00</td>\n",
       "      <td>1.00</td>\n",
       "      <td>0.86</td>\n",
       "      <td>0.9</td>\n",
       "      <td>0.95</td>\n",
       "      <td>1.24</td>\n",
       "      <td>1.00</td>\n",
       "      <td>1.00</td>\n",
       "      <td>16.0</td>\n",
       "      <td>33.0</td>\n",
       "    </tr>\n",
       "  </tbody>\n",
       "</table>\n",
       "</div>"
      ],
      "text/plain": [
       "   rely  data  cplx  time  stor  virt  turn  acap  aexp  pcap  vexp  lexp  \\\n",
       "0  0.88  1.16  0.70   1.0  1.06  1.15  1.07  1.19  1.13  1.17   1.1  1.00   \n",
       "1  0.88  1.16  0.85   1.0  1.06  1.00  1.07  1.00  0.91  1.00   0.9  0.95   \n",
       "2  1.00  1.16  0.85   1.0  1.00  0.87  0.94  0.86  0.82  0.86   0.9  0.95   \n",
       "3  0.75  1.16  0.70   1.0  1.00  0.87  1.00  1.19  0.91  1.42   1.0  0.95   \n",
       "4  0.88  0.94  1.00   1.0  1.00  0.87  1.00  1.00  1.00  0.86   0.9  0.95   \n",
       "\n",
       "   modp  tool  sced    loc  actual  \n",
       "0  1.24  1.10  1.04  113.0  2040.0  \n",
       "1  1.10  1.00  1.00  293.0  1600.0  \n",
       "2  0.91  0.91  1.00  132.0   243.0  \n",
       "3  1.24  1.00  1.04   60.0   240.0  \n",
       "4  1.24  1.00  1.00   16.0    33.0  "
      ]
     },
     "execution_count": 2,
     "metadata": {},
     "output_type": "execute_result"
    }
   ],
   "source": [
    "# Load dataset\n",
    "df = pd.read_csv(\"dataset/COCOMO-81.csv\")\n",
    "df = df.drop([\"num\", \"dev_mode\"], axis=1)\n",
    "df.head()"
   ]
  },
  {
   "cell_type": "markdown",
   "id": "dc7e2897-f1cc-43d8-89ca-af97644bac5e",
   "metadata": {},
   "source": [
    "# Option 1: Run model and Predictions without Feature Selection"
   ]
  },
  {
   "cell_type": "code",
   "execution_count": 3,
   "id": "3e8dda99-b277-4754-8fff-122c888566da",
   "metadata": {},
   "outputs": [],
   "source": [
    "X = df.drop(columns=[\"actual\"])\n",
    "y = df[\"actual\"]"
   ]
  },
  {
   "cell_type": "code",
   "execution_count": 4,
   "id": "642957f7-2537-4a24-afca-55f0607eb42f",
   "metadata": {},
   "outputs": [],
   "source": [
    "# Scale features and target\n",
    "scaler_x = StandardScaler()\n",
    "scaler_y = StandardScaler()\n",
    "X_scaled = scaler_x.fit_transform(X)\n",
    "y_scaled = scaler_y.fit_transform(y.values.reshape(-1, 1)).flatten()"
   ]
  },
  {
   "cell_type": "code",
   "execution_count": 5,
   "id": "fe6dc625-3860-4a40-8e38-c6142a9e357b",
   "metadata": {},
   "outputs": [],
   "source": [
    "# Split dataset\n",
    "X_train, X_test, y_train, y_test = train_test_split(X_scaled, y_scaled, test_size=0.2, random_state=42)"
   ]
  },
  {
   "cell_type": "markdown",
   "id": "34e94d6a-d253-4e8a-8d84-6c433b7f8e74",
   "metadata": {},
   "source": [
    "## SVR only"
   ]
  },
  {
   "cell_type": "code",
   "execution_count": 6,
   "id": "2fabaf40-ea5c-47f9-ad45-9417ed595e8f",
   "metadata": {},
   "outputs": [
    {
     "data": {
      "text/plain": [
       "0.11921545744115179"
      ]
     },
     "execution_count": 6,
     "metadata": {},
     "output_type": "execute_result"
    }
   ],
   "source": [
    "# Running the SVR model only without JAYA optimization\n",
    "model1 = SVR(C=100, epsilon=0.1, gamma=0.005)\n",
    "model1.fit(X_train, y_train)\n",
    "y_pred1 = model1.predict(X_test)\n",
    "mse = mean_squared_error(y_test, y_pred1)\n",
    "mse"
   ]
  },
  {
   "cell_type": "code",
   "execution_count": 7,
   "id": "6aee756d-ac76-4643-9654-9a9cc23b9a96",
   "metadata": {},
   "outputs": [
    {
     "name": "stdout",
     "output_type": "stream",
     "text": [
      "[[-1292.78740947]\n",
      " [ 1332.86632808]\n",
      " [ 1248.96435606]\n",
      " [  386.39420508]\n",
      " [  -65.27148135]\n",
      " [ -575.13006149]]\n",
      "[[  38.]\n",
      " [ 130.]\n",
      " [2040.]\n",
      " [  87.]\n",
      " [  43.]\n",
      " [  47.]]\n",
      "mse:  389266.8898966859\n"
     ]
    }
   ],
   "source": [
    "y_predr = scaler_y.inverse_transform(y_pred1.reshape(-1, 1))  # Reverse scaling to get the original values\n",
    "y_testr = scaler_y.inverse_transform(y_test.reshape(-1, 1))\n",
    "print(y_predr[:6])\n",
    "print(y_testr[:6])\n",
    "print(\"mse: \", mean_squared_error(y_testr, y_predr))"
   ]
  },
  {
   "cell_type": "code",
   "execution_count": null,
   "id": "fb85122d-8fcb-4960-ae7c-fd896f13d751",
   "metadata": {},
   "outputs": [],
   "source": []
  },
  {
   "cell_type": "markdown",
   "id": "16b64d45-a6a2-4fd6-965e-ba6ac9d6c022",
   "metadata": {},
   "source": [
    "## SVR with JAYA optimization"
   ]
  },
  {
   "cell_type": "code",
   "execution_count": 8,
   "id": "2de0319c-5217-4e14-a8da-6f46b144be38",
   "metadata": {},
   "outputs": [],
   "source": [
    "def fitness_function(params, X_train, y_train):\n",
    "    try:\n",
    "        C, epsilon, gamma = params\n",
    "        model = SVR(C=C, epsilon=epsilon, gamma=gamma)\n",
    "        \n",
    "        # Use cross-validation on the training set\n",
    "        # train on 80% of training data, validate on 20%\n",
    "        X_train_train, X_val, y_train_train, y_val = train_test_split(\n",
    "            X_train, y_train, test_size=0.2, random_state=42)\n",
    "        \n",
    "        model.fit(X_train_train, y_train_train)\n",
    "        y_pred = model.predict(X_val)\n",
    "        mse = mean_squared_error(y_val, y_pred)\n",
    "        return mse\n",
    "    except:\n",
    "        return float('inf')"
   ]
  },
  {
   "cell_type": "code",
   "execution_count": 9,
   "id": "d530bb5e-bcd0-4fc5-bf38-47e2114f9ec4",
   "metadata": {},
   "outputs": [],
   "source": [
    "def jaya_optimizer(fitness_fn, bounds, pop_size=10, iterations=100):\n",
    "    dim = len(bounds)\n",
    "    population = np.random.uniform([b[0] for b in bounds], [b[1] for b in bounds], size=(pop_size, dim))\n",
    "    mse_per_iter = []\n",
    "\n",
    "    for it in range(iterations):\n",
    "        fitness_values = [fitness_fn(ind, X_train, y_train) for ind in population]\n",
    "        best_idx, worst_idx = np.argmin(fitness_values), np.argmax(fitness_values)\n",
    "        best, worst = population[best_idx], population[worst_idx]\n",
    "\n",
    "        for i in range(pop_size):\n",
    "            r1, r2 = np.random.rand(dim), np.random.rand(dim)\n",
    "            new_ind = population[i] + r1 * (best - abs(population[i])) - r2 * (worst - abs(population[i]))\n",
    "            new_ind = np.clip(new_ind, [b[0] for b in bounds], [b[1] for b in bounds])\n",
    "            new_fit = fitness_fn(new_ind, X_train, y_train)\n",
    "            if new_fit < fitness_values[i]:\n",
    "                population[i] = new_ind\n",
    "\n",
    "        mse_per_iter.append(min(fitness_values))\n",
    "\n",
    "    final_fitness = [fitness_fn(ind, X_train, y_train) for ind in population]\n",
    "    best_index = np.argmin(final_fitness)\n",
    "    return population[best_index], final_fitness[best_index], mse_per_iter"
   ]
  },
  {
   "cell_type": "code",
   "execution_count": 10,
   "id": "ab7d6130-bf18-48ba-8c4a-aca56066950a",
   "metadata": {},
   "outputs": [],
   "source": [
    "# SVR hyperparameter bounds: C, epsilon, gamma\n",
    "bounds = [(100, 1000), (0.05, 0.2), (0.001, 0.005)]"
   ]
  },
  {
   "cell_type": "code",
   "execution_count": 11,
   "id": "d67c4570-5ff7-4d2a-804a-421eb54c0387",
   "metadata": {},
   "outputs": [
    {
     "name": "stdout",
     "output_type": "stream",
     "text": [
      "Best Parameters (C, epsilon, gamma): [1.00000091e+02 6.83805127e-02 1.00000000e-03]\n",
      "Best MSE on validation set: 0.05573547822175595\n"
     ]
    }
   ],
   "source": [
    "best_params, best_mse, mse_progression = jaya_optimizer(fitness_function, bounds, pop_size=10, iterations=100)\n",
    "\n",
    "print(\"Best Parameters (C, epsilon, gamma):\", best_params)\n",
    "print(\"Best MSE on validation set:\", best_mse)"
   ]
  },
  {
   "cell_type": "code",
   "execution_count": 12,
   "id": "c7c0cd16-981d-432f-a4df-4e24af4e69df",
   "metadata": {},
   "outputs": [
    {
     "name": "stdout",
     "output_type": "stream",
     "text": [
      "Test MSE on unseen data: 0.06444994379055655\n"
     ]
    }
   ],
   "source": [
    "# Now evaluate the best model on the test set (unseen data)\n",
    "best_model = SVR(C=best_params[0], epsilon=best_params[1], gamma=best_params[2])\n",
    "best_model.fit(X_train, y_train)\n",
    "y_test_pred = best_model.predict(X_test)\n",
    "test_mse = mean_squared_error(y_test, y_test_pred)\n",
    "print(\"Test MSE on unseen data:\", test_mse)"
   ]
  },
  {
   "cell_type": "code",
   "execution_count": 13,
   "id": "7f04c927-b7da-49e0-a32b-88f51ff430c3",
   "metadata": {},
   "outputs": [
    {
     "name": "stdout",
     "output_type": "stream",
     "text": [
      "[[-1292.78740947]\n",
      " [ 1332.86632808]\n",
      " [ 1248.96435606]\n",
      " [  386.39420508]\n",
      " [  -65.27148135]\n",
      " [ -575.13006149]]\n",
      "[[  38.]\n",
      " [ 130.]\n",
      " [2040.]\n",
      " [  87.]\n",
      " [  43.]\n",
      " [  47.]]\n",
      "mse:  210444.4315515919\n"
     ]
    }
   ],
   "source": [
    "y_test_predr = scaler_y.inverse_transform(y_test_pred.reshape(-1, 1))  # Reverse scaling to get the original values\n",
    "y_testr = scaler_y.inverse_transform(y_test.reshape(-1, 1))\n",
    "print(y_predr[:6])\n",
    "print(y_testr[:6])\n",
    "print(\"mse: \", mean_squared_error(y_testr, y_test_predr))"
   ]
  },
  {
   "cell_type": "code",
   "execution_count": 14,
   "id": "2053b168-5785-4b84-89d0-8f677227ffb3",
   "metadata": {},
   "outputs": [
    {
     "data": {
      "image/png": "[encoded data removed]",
      "text/plain": [
       "<Figure size 640x480 with 1 Axes>"
      ]
     },
     "metadata": {},
     "output_type": "display_data"
    }
   ],
   "source": [
    "plt.plot(mse_progression)\n",
    "plt.xlabel(\"Iteration\")\n",
    "plt.ylabel(\"MSE\")\n",
    "plt.title(\"MSE Progression over Iterations (Validation Set)\")\n",
    "plt.grid(True)\n",
    "plt.show()"
   ]
  },
  {
   "cell_type": "code",
   "execution_count": null,
   "id": "153ff1a7-e88d-4250-82c6-f919a28e6ae7",
   "metadata": {},
   "outputs": [],
   "source": []
  },
  {
   "cell_type": "markdown",
   "id": "e88ad9e9-5f76-4681-8f36-d71efd53c1d1",
   "metadata": {},
   "source": [
    "# Option 2: Implementing Feature Selections "
   ]
  },
  {
   "cell_type": "markdown",
   "id": "b04eacfb-d82f-4e91-bc36-2653c70d79e4",
   "metadata": {},
   "source": [
    "- The model's MSE value from option 1: SVR only will be used as a baseline value to see if the feature selections helps in improving the model's performance"
   ]
  },
  {
   "cell_type": "code",
   "execution_count": 15,
   "id": "cbde2260-69e6-48aa-bd30-86e04d0acc66",
   "metadata": {},
   "outputs": [],
   "source": [
    "df2 = df.copy()"
   ]
  },
  {
   "cell_type": "code",
   "execution_count": 16,
   "id": "1ca7b015-c7ac-4c10-b5f9-28b29dd86b9b",
   "metadata": {},
   "outputs": [
    {
     "data": {
      "text/html": [
       "<div>\n",
       "<style scoped>\n",
       "    .dataframe tbody tr th:only-of-type {\n",
       "        vertical-align: middle;\n",
       "    }\n",
       "\n",
       "    .dataframe tbody tr th {\n",
       "        vertical-align: top;\n",
       "    }\n",
       "\n",
       "    .dataframe thead th {\n",
       "        text-align: right;\n",
       "    }\n",
       "</style>\n",
       "<table border=\"1\" class=\"dataframe\">\n",
       "  <thead>\n",
       "    <tr style=\"text-align: right;\">\n",
       "      <th></th>\n",
       "      <th>rely</th>\n",
       "      <th>data</th>\n",
       "      <th>cplx</th>\n",
       "      <th>time</th>\n",
       "      <th>stor</th>\n",
       "      <th>virt</th>\n",
       "      <th>turn</th>\n",
       "      <th>acap</th>\n",
       "      <th>aexp</th>\n",
       "      <th>pcap</th>\n",
       "      <th>vexp</th>\n",
       "      <th>lexp</th>\n",
       "      <th>modp</th>\n",
       "      <th>tool</th>\n",
       "      <th>sced</th>\n",
       "      <th>loc</th>\n",
       "      <th>actual</th>\n",
       "    </tr>\n",
       "  </thead>\n",
       "  <tbody>\n",
       "    <tr>\n",
       "      <th>0</th>\n",
       "      <td>0.88</td>\n",
       "      <td>1.16</td>\n",
       "      <td>0.70</td>\n",
       "      <td>1.0</td>\n",
       "      <td>1.06</td>\n",
       "      <td>1.15</td>\n",
       "      <td>1.07</td>\n",
       "      <td>1.19</td>\n",
       "      <td>1.13</td>\n",
       "      <td>1.17</td>\n",
       "      <td>1.1</td>\n",
       "      <td>1.00</td>\n",
       "      <td>1.24</td>\n",
       "      <td>1.10</td>\n",
       "      <td>1.04</td>\n",
       "      <td>113.0</td>\n",
       "      <td>2040.0</td>\n",
       "    </tr>\n",
       "    <tr>\n",
       "      <th>1</th>\n",
       "      <td>0.88</td>\n",
       "      <td>1.16</td>\n",
       "      <td>0.85</td>\n",
       "      <td>1.0</td>\n",
       "      <td>1.06</td>\n",
       "      <td>1.00</td>\n",
       "      <td>1.07</td>\n",
       "      <td>1.00</td>\n",
       "      <td>0.91</td>\n",
       "      <td>1.00</td>\n",
       "      <td>0.9</td>\n",
       "      <td>0.95</td>\n",
       "      <td>1.10</td>\n",
       "      <td>1.00</td>\n",
       "      <td>1.00</td>\n",
       "      <td>293.0</td>\n",
       "      <td>1600.0</td>\n",
       "    </tr>\n",
       "    <tr>\n",
       "      <th>2</th>\n",
       "      <td>1.00</td>\n",
       "      <td>1.16</td>\n",
       "      <td>0.85</td>\n",
       "      <td>1.0</td>\n",
       "      <td>1.00</td>\n",
       "      <td>0.87</td>\n",
       "      <td>0.94</td>\n",
       "      <td>0.86</td>\n",
       "      <td>0.82</td>\n",
       "      <td>0.86</td>\n",
       "      <td>0.9</td>\n",
       "      <td>0.95</td>\n",
       "      <td>0.91</td>\n",
       "      <td>0.91</td>\n",
       "      <td>1.00</td>\n",
       "      <td>132.0</td>\n",
       "      <td>243.0</td>\n",
       "    </tr>\n",
       "    <tr>\n",
       "      <th>3</th>\n",
       "      <td>0.75</td>\n",
       "      <td>1.16</td>\n",
       "      <td>0.70</td>\n",
       "      <td>1.0</td>\n",
       "      <td>1.00</td>\n",
       "      <td>0.87</td>\n",
       "      <td>1.00</td>\n",
       "      <td>1.19</td>\n",
       "      <td>0.91</td>\n",
       "      <td>1.42</td>\n",
       "      <td>1.0</td>\n",
       "      <td>0.95</td>\n",
       "      <td>1.24</td>\n",
       "      <td>1.00</td>\n",
       "      <td>1.04</td>\n",
       "      <td>60.0</td>\n",
       "      <td>240.0</td>\n",
       "    </tr>\n",
       "    <tr>\n",
       "      <th>4</th>\n",
       "      <td>0.88</td>\n",
       "      <td>0.94</td>\n",
       "      <td>1.00</td>\n",
       "      <td>1.0</td>\n",
       "      <td>1.00</td>\n",
       "      <td>0.87</td>\n",
       "      <td>1.00</td>\n",
       "      <td>1.00</td>\n",
       "      <td>1.00</td>\n",
       "      <td>0.86</td>\n",
       "      <td>0.9</td>\n",
       "      <td>0.95</td>\n",
       "      <td>1.24</td>\n",
       "      <td>1.00</td>\n",
       "      <td>1.00</td>\n",
       "      <td>16.0</td>\n",
       "      <td>33.0</td>\n",
       "    </tr>\n",
       "  </tbody>\n",
       "</table>\n",
       "</div>"
      ],
      "text/plain": [
       "   rely  data  cplx  time  stor  virt  turn  acap  aexp  pcap  vexp  lexp  \\\n",
       "0  0.88  1.16  0.70   1.0  1.06  1.15  1.07  1.19  1.13  1.17   1.1  1.00   \n",
       "1  0.88  1.16  0.85   1.0  1.06  1.00  1.07  1.00  0.91  1.00   0.9  0.95   \n",
       "2  1.00  1.16  0.85   1.0  1.00  0.87  0.94  0.86  0.82  0.86   0.9  0.95   \n",
       "3  0.75  1.16  0.70   1.0  1.00  0.87  1.00  1.19  0.91  1.42   1.0  0.95   \n",
       "4  0.88  0.94  1.00   1.0  1.00  0.87  1.00  1.00  1.00  0.86   0.9  0.95   \n",
       "\n",
       "   modp  tool  sced    loc  actual  \n",
       "0  1.24  1.10  1.04  113.0  2040.0  \n",
       "1  1.10  1.00  1.00  293.0  1600.0  \n",
       "2  0.91  0.91  1.00  132.0   243.0  \n",
       "3  1.24  1.00  1.04   60.0   240.0  \n",
       "4  1.24  1.00  1.00   16.0    33.0  "
      ]
     },
     "execution_count": 16,
     "metadata": {},
     "output_type": "execute_result"
    }
   ],
   "source": [
    "df2.head()"
   ]
  },
  {
   "cell_type": "code",
   "execution_count": 17,
   "id": "b674761d-5776-4eb7-ac44-66d288e17469",
   "metadata": {},
   "outputs": [
    {
     "data": {
      "text/plain": [
       "rely    0.206703\n",
       "data    0.444551\n",
       "cplx    0.010049\n",
       "time    0.152485\n",
       "stor    0.104838\n",
       "virt    0.018668\n",
       "turn    0.205883\n",
       "acap   -0.147865\n",
       "aexp   -0.035519\n",
       "pcap    0.156916\n",
       "vexp    0.068105\n",
       "lexp    0.087766\n",
       "modp    0.269879\n",
       "tool    0.002223\n",
       "sced    0.021463\n",
       "loc     0.657198\n",
       "dtype: float64"
      ]
     },
     "execution_count": 17,
     "metadata": {},
     "output_type": "execute_result"
    }
   ],
   "source": [
    "# Feature Selection: Step 1 -> Pearson Correlation\n",
    "df2.corrwith(df['actual']).drop(\"actual\")"
   ]
  },
  {
   "cell_type": "code",
   "execution_count": 18,
   "id": "e04921d5-ac44-4b16-b668-ea9e213fba05",
   "metadata": {},
   "outputs": [],
   "source": [
    "# From the values above, dropping all the features with < 0.1\n",
    "X1 = df2[[\"rely\", \"data\", \"time\", \"stor\", \"turn\", \"pcap\", \"modp\", \"loc\"]]\n",
    "y1 = df2[\"actual\"]"
   ]
  },
  {
   "cell_type": "code",
   "execution_count": 19,
   "id": "771f75ef-8f81-411a-8457-8990edcdb427",
   "metadata": {},
   "outputs": [],
   "source": [
    "# Scale features and target\n",
    "X1_scaled = scaler_x.fit_transform(X1)\n",
    "y1_scaled = scaler_y.fit_transform(y1.values.reshape(-1, 1)).flatten()"
   ]
  },
  {
   "cell_type": "code",
   "execution_count": 20,
   "id": "02a5fdb6-a192-44db-8ec2-c2af8bffad1d",
   "metadata": {},
   "outputs": [],
   "source": [
    "# Split dataset\n",
    "X_train1, X_test1, y_train1, y_test1 = train_test_split(X1_scaled, y1_scaled, test_size=0.2, random_state=42)"
   ]
  },
  {
   "cell_type": "code",
   "execution_count": 21,
   "id": "4a9fe7d9-c3f5-4532-b769-32aa46409ac1",
   "metadata": {},
   "outputs": [
    {
     "data": {
      "text/plain": [
       "0.02333671314198467"
      ]
     },
     "execution_count": 21,
     "metadata": {},
     "output_type": "execute_result"
    }
   ],
   "source": [
    "# Running the SVR model only without JAYA optimization\n",
    "model1 = SVR(C=100, epsilon=0.1, gamma=0.005)\n",
    "model1.fit(X_train1, y_train1)\n",
    "y_pred_cor = model1.predict(X_test1)\n",
    "mse = mean_squared_error(y_test1, y_pred_cor)\n",
    "mse"
   ]
  },
  {
   "cell_type": "markdown",
   "id": "23b98e68-ecb4-4c45-ba55-03848686051f",
   "metadata": {},
   "source": [
    "- With feature selection the new mse 0.11259 compared to the previous 0.05696, shows that the model's prediction got worse."
   ]
  },
  {
   "cell_type": "code",
   "execution_count": 22,
   "id": "4d72639f-4174-4ef5-bccb-59e8e68a3702",
   "metadata": {},
   "outputs": [
    {
     "name": "stdout",
     "output_type": "stream",
     "text": [
      "[[ -60.20814123]\n",
      " [ -53.98645426]\n",
      " [1185.02732487]\n",
      " [ 274.11843192]\n",
      " [  46.91654077]\n",
      " [  34.42057718]]\n",
      "[[  38.]\n",
      " [ 130.]\n",
      " [2040.]\n",
      " [  87.]\n",
      " [  43.]\n",
      " [  47.]]\n",
      "mse:  76199.93195660658\n"
     ]
    }
   ],
   "source": [
    "y_cor_predr = scaler_y.inverse_transform(y_pred_cor.reshape(-1, 1))  # Reverse scaling to get the original values\n",
    "y_cor_testr = scaler_y.inverse_transform(y_test1.reshape(-1, 1))\n",
    "print(y_cor_predr[:6])\n",
    "print(y_cor_testr[:6])\n",
    "print(\"mse: \", mean_squared_error(y_cor_testr, y_cor_predr))"
   ]
  },
  {
   "cell_type": "code",
   "execution_count": 125,
   "id": "3cd3295d-bc5a-42ec-8c74-b73a4f725d0f",
   "metadata": {},
   "outputs": [],
   "source": [
    "#X1.var()"
   ]
  },
  {
   "cell_type": "code",
   "execution_count": 126,
   "id": "2e53acc8-7c9f-4b19-8eb0-bd8e9c971fed",
   "metadata": {},
   "outputs": [],
   "source": [
    "# Using Mutual information to see if there are any features that could be dropped also"
   ]
  },
  {
   "cell_type": "code",
   "execution_count": 23,
   "id": "ac12a5fc-f755-49f3-9ee2-cea2dcb41f77",
   "metadata": {},
   "outputs": [],
   "source": [
    "col = X1.shape[1]"
   ]
  },
  {
   "cell_type": "code",
   "execution_count": 24,
   "id": "6e168e01-0aaa-42fb-9a5a-e454c858e095",
   "metadata": {},
   "outputs": [],
   "source": [
    "from sklearn.feature_selection import SelectKBest\n",
    "from sklearn.feature_selection import mutual_info_regression"
   ]
  },
  {
   "cell_type": "code",
   "execution_count": 25,
   "id": "c6afda05-bd3c-4443-b657-102fc7e8ef30",
   "metadata": {},
   "outputs": [],
   "source": [
    "mse_list = []\n",
    "for k in range(1, col + 1):  # loop through number of features\n",
    "    selector = SelectKBest(mutual_info_regression, k=k)\n",
    "    selector.fit(X_train1, y_train1)\n",
    "\n",
    "    sel_X_train = selector.transform(X_train1)\n",
    "    sel_X_test = selector.transform(X_test1)\n",
    "\n",
    "    model1.fit(sel_X_train, y_train1)\n",
    "    kbest_preds = model1.predict(sel_X_test)\n",
    "    mse_kbest = round(mean_squared_error(y_test1, kbest_preds), 4)\n",
    "\n",
    "    mse_list.append(mse_kbest)"
   ]
  },
  {
   "cell_type": "code",
   "execution_count": 29,
   "id": "66dfdd7c-5517-45b3-9ceb-7128baa48c60",
   "metadata": {},
   "outputs": [
    {
     "data": {
      "image/png": "[encoded data removed]",
      "text/plain": [
       "<Figure size 640x480 with 1 Axes>"
      ]
     },
     "metadata": {},
     "output_type": "display_data"
    }
   ],
   "source": [
    "fig, ax = plt.subplots()\n",
    "\n",
    "x = np.arange(1, col+1)\n",
    "y = mse_list\n",
    "\n",
    "ax.bar(x, y, width= 0.2)\n",
    "ax.set_xlabel (\"number of features selected using mutual info\")\n",
    "ax.set_ylabel (\"mse\")\n",
    "ax.set_ylim(0, 1.2)\n",
    "ax.set_xticks(np.arange(1,col+1))\n",
    "ax.set_xticklabels(np.arange(1, col+1), fontsize=12)\n",
    "\n",
    "for i, v in enumerate(y):\n",
    "    plt.text(x=i+1, y=v+0.05, s=str(v), ha='center')\n",
    "plt.tight_layout()"
   ]
  },
  {
   "cell_type": "code",
   "execution_count": 31,
   "id": "29f77bf3-f920-43d6-ac4c-58c53dfa6c98",
   "metadata": {},
   "outputs": [
    {
     "data": {
      "text/plain": [
       "Index(['rely', 'data', 'time', 'stor', 'turn', 'pcap', 'modp', 'loc'], dtype='object')"
      ]
     },
     "execution_count": 31,
     "metadata": {},
     "output_type": "execute_result"
    }
   ],
   "source": [
    "# top features selected\n",
    "selector = SelectKBest(mutual_info_regression, k=8)\n",
    "selector.fit(X_train1, y_train1)\n",
    "\n",
    "selected_feature_mask = selector.get_support()\n",
    "#X_scaled = pd.DataFrame(scaler_x.fit_transform(X), columns=X.columns)\n",
    "selected_features = X1.columns[selected_feature_mask]\n",
    "selected_features"
   ]
  },
  {
   "cell_type": "markdown",
   "id": "354fbbb7-b577-49ba-a6eb-feaa3a9a9d40",
   "metadata": {},
   "source": [
    "- From the plot above, there is no need for further feature selection"
   ]
  },
  {
   "cell_type": "code",
   "execution_count": 132,
   "id": "1919404b-880b-4c58-bf19-0b12a0d70d0d",
   "metadata": {},
   "outputs": [],
   "source": [
    "# Running the Jaya-svr optimization with new selected features"
   ]
  },
  {
   "cell_type": "code",
   "execution_count": 32,
   "id": "44415e13-0d04-49c8-9cf7-294e7c18e50d",
   "metadata": {},
   "outputs": [],
   "source": [
    "def jaya_optimizer(fitness_fn, bounds, pop_size=10, iterations=100):\n",
    "    dim = len(bounds)\n",
    "    population = np.random.uniform([b[0] for b in bounds], [b[1] for b in bounds], size=(pop_size, dim))\n",
    "    mse_per_iter = []\n",
    "\n",
    "    for it in range(iterations):\n",
    "        fitness_values = [fitness_fn(ind, X_train1, y_train1) for ind in population]\n",
    "        best_idx, worst_idx = np.argmin(fitness_values), np.argmax(fitness_values)\n",
    "        best, worst = population[best_idx], population[worst_idx]\n",
    "\n",
    "        for i in range(pop_size):\n",
    "            r1, r2 = np.random.rand(dim), np.random.rand(dim)\n",
    "            new_ind = population[i] + r1 * (best - abs(population[i])) - r2 * (worst - abs(population[i]))\n",
    "            new_ind = np.clip(new_ind, [b[0] for b in bounds], [b[1] for b in bounds])\n",
    "            new_fit = fitness_fn(new_ind, X_train1, y_train1)\n",
    "            if new_fit < fitness_values[i]:\n",
    "                population[i] = new_ind\n",
    "\n",
    "        mse_per_iter.append(min(fitness_values))\n",
    "\n",
    "    final_fitness = [fitness_fn(ind, X_train1, y_train1) for ind in population]\n",
    "    best_index = np.argmin(final_fitness)\n",
    "    return population[best_index], final_fitness[best_index], mse_per_iter"
   ]
  },
  {
   "cell_type": "code",
   "execution_count": 33,
   "id": "ca3a0e91-385d-4311-96fc-70c094196856",
   "metadata": {},
   "outputs": [
    {
     "name": "stdout",
     "output_type": "stream",
     "text": [
      "Best Parameters (C, epsilon, gamma): [5.25270205e+02 8.47626359e-02 4.15946396e-03]\n",
      "Best MSE on validation set: 0.015672937113166377\n"
     ]
    }
   ],
   "source": [
    "best_params, best_mse, mse_progression = jaya_optimizer(fitness_function, bounds, pop_size=10, iterations=100)\n",
    "\n",
    "print(\"Best Parameters (C, epsilon, gamma):\", best_params)\n",
    "print(\"Best MSE on validation set:\", best_mse)"
   ]
  },
  {
   "cell_type": "code",
   "execution_count": 34,
   "id": "1f3b4ba1-084e-4734-8f9d-feddff3ce298",
   "metadata": {},
   "outputs": [
    {
     "name": "stdout",
     "output_type": "stream",
     "text": [
      "Test MSE on unseen data: 0.028407769132203102\n"
     ]
    }
   ],
   "source": [
    "# Now evaluate the best model on the test set (unseen data)\n",
    "best_model = SVR(C=best_params[0], epsilon=best_params[1], gamma=best_params[2])\n",
    "best_model.fit(X_train1, y_train1)\n",
    "y_test_pred = best_model.predict(X_test1)\n",
    "test_mse = mean_squared_error(y_test1, y_test_pred)\n",
    "print(\"Test MSE on unseen data:\", test_mse)"
   ]
  },
  {
   "cell_type": "code",
   "execution_count": 35,
   "id": "df71ed3a-d437-4a7e-b103-3a9a1cb9032b",
   "metadata": {},
   "outputs": [
    {
     "name": "stdout",
     "output_type": "stream",
     "text": [
      "[[-1292.78740947]\n",
      " [ 1332.86632808]\n",
      " [ 1248.96435606]\n",
      " [  386.39420508]\n",
      " [  -65.27148135]\n",
      " [ -575.13006149]]\n",
      "[[  38.]\n",
      " [ 130.]\n",
      " [2040.]\n",
      " [  87.]\n",
      " [  43.]\n",
      " [  47.]]\n",
      "mse:  92758.13872084861\n"
     ]
    }
   ],
   "source": [
    "y_test_predr = scaler_y.inverse_transform(y_test_pred.reshape(-1, 1))  # Reverse scaling to get the original values\n",
    "y_testr = scaler_y.inverse_transform(y_test1.reshape(-1, 1))\n",
    "print(y_predr[:6])\n",
    "print(y_testr[:6])\n",
    "print(\"mse: \", mean_squared_error(y_testr, y_test_predr))"
   ]
  },
  {
   "cell_type": "code",
   "execution_count": null,
   "id": "c85b26e6-a46a-49d0-bffe-2349687051fa",
   "metadata": {},
   "outputs": [],
   "source": []
  },
  {
   "cell_type": "markdown",
   "id": "405b274c-df64-43ca-a6c5-7ea5af732096",
   "metadata": {},
   "source": [
    "# Final Results:\n",
    "    Based on all the test runs, this is the conclusion:\n",
    "###  Results without feature selection (MSE)\n",
    "- SVR only -> 0.11921545744115179     | reversed scale: 389266.8898966859\n",
    "- JAYA-SVR -> 0.06444994379055655   | reversed scale: 210444.4315515919\n",
    "###  Results with feature selection\n",
    "- SVR only -> 0.02333671314198467    | reversed scale: 76199.93195660658\n",
    "- JAYA-SVR -> 0.028407769132203102   | reversed scale: 92758.13872084861\n",
    "\n",
    "### Using feature selection improved the model's prediction (the best outcome out of all options), optimizing the model using JAYA-SVR (with feature selection) also improved the model greatly but it is not better than SVR (with feature selection)... on this dataset.\n",
    "\n",
    "## Results from the published paper, for this dataset\n",
    "- BPNN only -> 0.6974\n",
    "- SSA-BPNN -> 0.0160\n",
    "> Back Propagation Neural Network (BPNN) & Salp Swarm Algorithm (SSA)"
   ]
  },
  {
   "cell_type": "markdown",
   "id": "8762aa30-596e-45a9-b432-50d29cdfabb7",
   "metadata": {},
   "source": [
    "#### Confusion???\n",
    "Why is the result better when the dataset is scaled down but looks worse when the scaling is reversed?"
   ]
  }
 ],
 "metadata": {
  "kernelspec": {
   "display_name": "Python 3 (ipykernel)",
   "language": "python",
   "name": "python3"
  },
  "language_info": {
   "codemirror_mode": {
    "name": "ipython",
    "version": 3
   },
   "file_extension": ".py",
   "mimetype": "text/x-python",
   "name": "python",
   "nbconvert_exporter": "python",
   "pygments_lexer": "ipython3",
   "version": "3.11.7"
  }
 },
 "nbformat": 4,
 "nbformat_minor": 5
}
