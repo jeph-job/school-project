{
 "cells": [
  {
   "cell_type": "markdown",
   "id": "89d7b6db-a0d3-4108-87f6-2d595e534649",
   "metadata": {},
   "source": [
    "# About the project\n",
    "The work is all about tackling software effort prediction (SEP) and software test prediction (STP) (i.e., software reliability problems) by integrating a metaheuristicm algorith with a ML model to optimize the model's parameters.\n",
    "Here JAYA algorithm is used in other to improve a Support Vector Regressor SVR model's predictions (predicting the Software effort). Using the Jaya algorithm to optimize the SVR parameters (C, epsilon, gamma).\n",
    "\n",
    "- The final goal of the project is to compare the results gotten with the results published in a paper by  Sofian Kassaymeh, Salwani Abdullah, Mohamad Al-Laham and others, titled: Salp Swarm Optimizer for Modeling Software Reliability Prediction Problem.\n",
    "- The same datasets are used."
   ]
  },
  {
   "cell_type": "code",
   "execution_count": 1,
   "id": "ebd816bb-5957-4822-942d-3c1efaf710aa",
   "metadata": {},
   "outputs": [],
   "source": [
    "# Importing libraries\n",
    "import numpy as np\n",
    "import pandas as pd\n",
    "import matplotlib.pyplot as plt\n",
    "from sklearn.model_selection import train_test_split\n",
    "from sklearn.preprocessing import StandardScaler\n",
    "from sklearn.svm import SVR\n",
    "from sklearn.metrics import mean_squared_error"
   ]
  },
  {
   "cell_type": "code",
   "execution_count": 2,
   "id": "c69de19c-b9ae-4b2c-b8bf-e1d496e3d15e",
   "metadata": {},
   "outputs": [
    {
     "data": {
      "text/html": [
       "<div>\n",
       "<style scoped>\n",
       "    .dataframe tbody tr th:only-of-type {\n",
       "        vertical-align: middle;\n",
       "    }\n",
       "\n",
       "    .dataframe tbody tr th {\n",
       "        vertical-align: top;\n",
       "    }\n",
       "\n",
       "    .dataframe thead th {\n",
       "        text-align: right;\n",
       "    }\n",
       "</style>\n",
       "<table border=\"1\" class=\"dataframe\">\n",
       "  <thead>\n",
       "    <tr style=\"text-align: right;\">\n",
       "      <th></th>\n",
       "      <th>KLOC</th>\n",
       "      <th>SCRN</th>\n",
       "      <th>FORM</th>\n",
       "      <th>FILE</th>\n",
       "      <th>ESCRN</th>\n",
       "      <th>EFORM</th>\n",
       "      <th>EFILE</th>\n",
       "      <th>MM</th>\n",
       "    </tr>\n",
       "  </thead>\n",
       "  <tbody>\n",
       "    <tr>\n",
       "      <th>0</th>\n",
       "      <td>44.2</td>\n",
       "      <td>24.0</td>\n",
       "      <td>26.0</td>\n",
       "      <td>41.0</td>\n",
       "      <td>246.0</td>\n",
       "      <td>642.0</td>\n",
       "      <td>589.0</td>\n",
       "      <td>59.5</td>\n",
       "    </tr>\n",
       "    <tr>\n",
       "      <th>1</th>\n",
       "      <td>59.0</td>\n",
       "      <td>34.0</td>\n",
       "      <td>30.0</td>\n",
       "      <td>28.0</td>\n",
       "      <td>651.0</td>\n",
       "      <td>447.0</td>\n",
       "      <td>1143.0</td>\n",
       "      <td>85.0</td>\n",
       "    </tr>\n",
       "    <tr>\n",
       "      <th>2</th>\n",
       "      <td>36.9</td>\n",
       "      <td>9.0</td>\n",
       "      <td>36.0</td>\n",
       "      <td>29.0</td>\n",
       "      <td>193.0</td>\n",
       "      <td>694.0</td>\n",
       "      <td>995.0</td>\n",
       "      <td>31.5</td>\n",
       "    </tr>\n",
       "    <tr>\n",
       "      <th>3</th>\n",
       "      <td>39.3</td>\n",
       "      <td>27.0</td>\n",
       "      <td>10.0</td>\n",
       "      <td>52.0</td>\n",
       "      <td>389.0</td>\n",
       "      <td>105.0</td>\n",
       "      <td>2344.0</td>\n",
       "      <td>58.9</td>\n",
       "    </tr>\n",
       "    <tr>\n",
       "      <th>4</th>\n",
       "      <td>48.3</td>\n",
       "      <td>21.0</td>\n",
       "      <td>22.0</td>\n",
       "      <td>20.0</td>\n",
       "      <td>241.0</td>\n",
       "      <td>371.0</td>\n",
       "      <td>2052.0</td>\n",
       "      <td>58.9</td>\n",
       "    </tr>\n",
       "  </tbody>\n",
       "</table>\n",
       "</div>"
      ],
      "text/plain": [
       "   KLOC  SCRN  FORM  FILE  ESCRN  EFORM   EFILE    MM\n",
       "0  44.2  24.0  26.0  41.0  246.0  642.0   589.0  59.5\n",
       "1  59.0  34.0  30.0  28.0  651.0  447.0  1143.0  85.0\n",
       "2  36.9   9.0  36.0  29.0  193.0  694.0   995.0  31.5\n",
       "3  39.3  27.0  10.0  52.0  389.0  105.0  2344.0  58.9\n",
       "4  48.3  21.0  22.0  20.0  241.0  371.0  2052.0  58.9"
      ]
     },
     "execution_count": 2,
     "metadata": {},
     "output_type": "execute_result"
    }
   ],
   "source": [
    "# Load dataset\n",
    "df = pd.read_csv(\"dataset/miyazaki94.csv\")\n",
    "df = df.drop(\"ID\", axis=1)\n",
    "df.head()"
   ]
  },
  {
   "cell_type": "markdown",
   "id": "dc7e2897-f1cc-43d8-89ca-af97644bac5e",
   "metadata": {},
   "source": [
    "# Option 1: Run model and Predictions without Feature Selection"
   ]
  },
  {
   "cell_type": "code",
   "execution_count": 3,
   "id": "3e8dda99-b277-4754-8fff-122c888566da",
   "metadata": {},
   "outputs": [],
   "source": [
    "X = df.drop(columns=[\"MM\"])\n",
    "y = df[\"MM\"]"
   ]
  },
  {
   "cell_type": "code",
   "execution_count": 4,
   "id": "642957f7-2537-4a24-afca-55f0607eb42f",
   "metadata": {},
   "outputs": [],
   "source": [
    "# Scale features and target\n",
    "scaler_x = StandardScaler()\n",
    "scaler_y = StandardScaler()\n",
    "X_scaled = scaler_x.fit_transform(X)\n",
    "y_scaled = scaler_y.fit_transform(y.values.reshape(-1, 1)).flatten()"
   ]
  },
  {
   "cell_type": "code",
   "execution_count": 5,
   "id": "fe6dc625-3860-4a40-8e38-c6142a9e357b",
   "metadata": {},
   "outputs": [],
   "source": [
    "# Split dataset\n",
    "X_train, X_test, y_train, y_test = train_test_split(X_scaled, y_scaled, test_size=0.2, random_state=42)"
   ]
  },
  {
   "cell_type": "markdown",
   "id": "34e94d6a-d253-4e8a-8d84-6c433b7f8e74",
   "metadata": {},
   "source": [
    "## SVR only"
   ]
  },
  {
   "cell_type": "code",
   "execution_count": 6,
   "id": "2fabaf40-ea5c-47f9-ad45-9417ed595e8f",
   "metadata": {},
   "outputs": [
    {
     "data": {
      "text/plain": [
       "0.014037098682665904"
      ]
     },
     "execution_count": 6,
     "metadata": {},
     "output_type": "execute_result"
    }
   ],
   "source": [
    "# Running the SVR model only without JAYA optimization\n",
    "model1 = SVR(C=100, epsilon=0.1, gamma=0.005)\n",
    "model1.fit(X_train, y_train)\n",
    "y_pred1 = model1.predict(X_test)\n",
    "mse = mean_squared_error(y_test, y_pred1)\n",
    "mse"
   ]
  },
  {
   "cell_type": "code",
   "execution_count": 7,
   "id": "6aee756d-ac76-4643-9654-9a9cc23b9a96",
   "metadata": {},
   "outputs": [
    {
     "name": "stdout",
     "output_type": "stream",
     "text": [
      "[[ 63.51531584]\n",
      " [ 75.50945276]\n",
      " [128.79152446]\n",
      " [ 26.79642631]\n",
      " [ 67.58295548]\n",
      " [ 44.62778892]]\n",
      "[[ 39. ]\n",
      " [ 55.7]\n",
      " [157. ]\n",
      " [  6. ]\n",
      " [ 54. ]\n",
      " [ 22. ]]\n",
      "mse:  719.2720345809466\n"
     ]
    }
   ],
   "source": [
    "y_predr = scaler_y.inverse_transform(y_pred1.reshape(-1, 1))  # Reverse scaling to get the original values\n",
    "y_testr = scaler_y.inverse_transform(y_test.reshape(-1, 1))\n",
    "print(y_predr[:6])\n",
    "print(y_testr[:6])\n",
    "print(\"mse: \", mean_squared_error(y_testr, y_predr))"
   ]
  },
  {
   "cell_type": "code",
   "execution_count": null,
   "id": "fb85122d-8fcb-4960-ae7c-fd896f13d751",
   "metadata": {},
   "outputs": [],
   "source": []
  },
  {
   "cell_type": "markdown",
   "id": "16b64d45-a6a2-4fd6-965e-ba6ac9d6c022",
   "metadata": {},
   "source": [
    "## SVR with JAYA optimization"
   ]
  },
  {
   "cell_type": "code",
   "execution_count": 8,
   "id": "2de0319c-5217-4e14-a8da-6f46b144be38",
   "metadata": {},
   "outputs": [],
   "source": [
    "def fitness_function(params, X_train, y_train):\n",
    "    try:\n",
    "        C, epsilon, gamma = params\n",
    "        model = SVR(C=C, epsilon=epsilon, gamma=gamma)\n",
    "        \n",
    "        # Use cross-validation on the training set\n",
    "        # train on 80% of training data, validate on 20%\n",
    "        X_train_train, X_val, y_train_train, y_val = train_test_split(\n",
    "            X_train, y_train, test_size=0.2, random_state=42)\n",
    "        \n",
    "        model.fit(X_train_train, y_train_train)\n",
    "        y_pred = model.predict(X_val)\n",
    "        mse = mean_squared_error(y_val, y_pred)\n",
    "        return mse\n",
    "    except:\n",
    "        return float('inf')"
   ]
  },
  {
   "cell_type": "code",
   "execution_count": 9,
   "id": "d530bb5e-bcd0-4fc5-bf38-47e2114f9ec4",
   "metadata": {},
   "outputs": [],
   "source": [
    "def jaya_optimizer(fitness_fn, bounds, pop_size=10, iterations=100):\n",
    "    dim = len(bounds)\n",
    "    population = np.random.uniform([b[0] for b in bounds], [b[1] for b in bounds], size=(pop_size, dim))\n",
    "    mse_per_iter = []\n",
    "\n",
    "    for it in range(iterations):\n",
    "        fitness_values = [fitness_fn(ind, X_train, y_train) for ind in population]\n",
    "        best_idx, worst_idx = np.argmin(fitness_values), np.argmax(fitness_values)\n",
    "        best, worst = population[best_idx], population[worst_idx]\n",
    "\n",
    "        for i in range(pop_size):\n",
    "            r1, r2 = np.random.rand(dim), np.random.rand(dim)\n",
    "            new_ind = population[i] + r1 * (best - abs(population[i])) - r2 * (worst - abs(population[i]))\n",
    "            new_ind = np.clip(new_ind, [b[0] for b in bounds], [b[1] for b in bounds])\n",
    "            new_fit = fitness_fn(new_ind, X_train, y_train)\n",
    "            if new_fit < fitness_values[i]:\n",
    "                population[i] = new_ind\n",
    "\n",
    "        mse_per_iter.append(min(fitness_values))\n",
    "\n",
    "    final_fitness = [fitness_fn(ind, X_train, y_train) for ind in population]\n",
    "    best_index = np.argmin(final_fitness)\n",
    "    return population[best_index], final_fitness[best_index], mse_per_iter"
   ]
  },
  {
   "cell_type": "code",
   "execution_count": 10,
   "id": "ab7d6130-bf18-48ba-8c4a-aca56066950a",
   "metadata": {},
   "outputs": [],
   "source": [
    "# SVR hyperparameter bounds: C, epsilon, gamma\n",
    "bounds = [(100, 1000), (0.05, 0.2), (0.001, 0.005)]"
   ]
  },
  {
   "cell_type": "code",
   "execution_count": 11,
   "id": "d67c4570-5ff7-4d2a-804a-421eb54c0387",
   "metadata": {},
   "outputs": [
    {
     "name": "stdout",
     "output_type": "stream",
     "text": [
      "Best Parameters (C, epsilon, gamma): [1.00010311e+02 5.00000000e-02 2.89870754e-03]\n",
      "Best MSE on validation set: 0.009766774781646954\n"
     ]
    }
   ],
   "source": [
    "best_params, best_mse, mse_progression = jaya_optimizer(fitness_function, bounds, pop_size=10, iterations=100)\n",
    "\n",
    "print(\"Best Parameters (C, epsilon, gamma):\", best_params)\n",
    "print(\"Best MSE on validation set:\", best_mse)"
   ]
  },
  {
   "cell_type": "code",
   "execution_count": 12,
   "id": "c7c0cd16-981d-432f-a4df-4e24af4e69df",
   "metadata": {},
   "outputs": [
    {
     "name": "stdout",
     "output_type": "stream",
     "text": [
      "Test MSE on unseen data: 0.013353536085011877\n"
     ]
    }
   ],
   "source": [
    "# Now evaluate the best model on the test set (unseen data)\n",
    "best_model = SVR(C=best_params[0], epsilon=best_params[1], gamma=best_params[2])\n",
    "best_model.fit(X_train, y_train)\n",
    "y_test_pred = best_model.predict(X_test)\n",
    "test_mse = mean_squared_error(y_test, y_test_pred)\n",
    "print(\"Test MSE on unseen data:\", test_mse)"
   ]
  },
  {
   "cell_type": "code",
   "execution_count": 13,
   "id": "7f04c927-b7da-49e0-a32b-88f51ff430c3",
   "metadata": {},
   "outputs": [
    {
     "name": "stdout",
     "output_type": "stream",
     "text": [
      "[[ 63.51531584]\n",
      " [ 75.50945276]\n",
      " [128.79152446]\n",
      " [ 26.79642631]\n",
      " [ 67.58295548]\n",
      " [ 44.62778892]]\n",
      "[[ 39. ]\n",
      " [ 55.7]\n",
      " [157. ]\n",
      " [  6. ]\n",
      " [ 54. ]\n",
      " [ 22. ]]\n",
      "mse:  684.245746635476\n"
     ]
    }
   ],
   "source": [
    "y_test_predr = scaler_y.inverse_transform(y_test_pred.reshape(-1, 1))  # Reverse scaling to get the original values\n",
    "y_testr = scaler_y.inverse_transform(y_test.reshape(-1, 1))\n",
    "print(y_predr[:6])\n",
    "print(y_testr[:6])\n",
    "print(\"mse: \", mean_squared_error(y_testr, y_test_predr))"
   ]
  },
  {
   "cell_type": "code",
   "execution_count": 14,
   "id": "2053b168-5785-4b84-89d0-8f677227ffb3",
   "metadata": {},
   "outputs": [
    {
     "data": {
      "image/png": "[encoded data removed]",
      "text/plain": [
       "<Figure size 640x480 with 1 Axes>"
      ]
     },
     "metadata": {},
     "output_type": "display_data"
    }
   ],
   "source": [
    "plt.plot(mse_progression)\n",
    "plt.xlabel(\"Iteration\")\n",
    "plt.ylabel(\"MSE\")\n",
    "plt.title(\"MSE Progression over Iterations (Validation Set)\")\n",
    "plt.grid(True)\n",
    "plt.show()"
   ]
  },
  {
   "cell_type": "code",
   "execution_count": null,
   "id": "153ff1a7-e88d-4250-82c6-f919a28e6ae7",
   "metadata": {},
   "outputs": [],
   "source": []
  },
  {
   "cell_type": "markdown",
   "id": "e88ad9e9-5f76-4681-8f36-d71efd53c1d1",
   "metadata": {},
   "source": [
    "# Option 2: Implementing Feature Selections "
   ]
  },
  {
   "cell_type": "markdown",
   "id": "b04eacfb-d82f-4e91-bc36-2653c70d79e4",
   "metadata": {},
   "source": [
    "- The model's MSE value from option 1: SVR only will be used as a baseline value to see if the feature selections helps in improving the model's performance"
   ]
  },
  {
   "cell_type": "code",
   "execution_count": 15,
   "id": "cbde2260-69e6-48aa-bd30-86e04d0acc66",
   "metadata": {},
   "outputs": [],
   "source": [
    "df2 = df.copy()"
   ]
  },
  {
   "cell_type": "code",
   "execution_count": 16,
   "id": "1ca7b015-c7ac-4c10-b5f9-28b29dd86b9b",
   "metadata": {},
   "outputs": [
    {
     "data": {
      "text/html": [
       "<div>\n",
       "<style scoped>\n",
       "    .dataframe tbody tr th:only-of-type {\n",
       "        vertical-align: middle;\n",
       "    }\n",
       "\n",
       "    .dataframe tbody tr th {\n",
       "        vertical-align: top;\n",
       "    }\n",
       "\n",
       "    .dataframe thead th {\n",
       "        text-align: right;\n",
       "    }\n",
       "</style>\n",
       "<table border=\"1\" class=\"dataframe\">\n",
       "  <thead>\n",
       "    <tr style=\"text-align: right;\">\n",
       "      <th></th>\n",
       "      <th>KLOC</th>\n",
       "      <th>SCRN</th>\n",
       "      <th>FORM</th>\n",
       "      <th>FILE</th>\n",
       "      <th>ESCRN</th>\n",
       "      <th>EFORM</th>\n",
       "      <th>EFILE</th>\n",
       "      <th>MM</th>\n",
       "    </tr>\n",
       "  </thead>\n",
       "  <tbody>\n",
       "    <tr>\n",
       "      <th>0</th>\n",
       "      <td>44.2</td>\n",
       "      <td>24.0</td>\n",
       "      <td>26.0</td>\n",
       "      <td>41.0</td>\n",
       "      <td>246.0</td>\n",
       "      <td>642.0</td>\n",
       "      <td>589.0</td>\n",
       "      <td>59.5</td>\n",
       "    </tr>\n",
       "    <tr>\n",
       "      <th>1</th>\n",
       "      <td>59.0</td>\n",
       "      <td>34.0</td>\n",
       "      <td>30.0</td>\n",
       "      <td>28.0</td>\n",
       "      <td>651.0</td>\n",
       "      <td>447.0</td>\n",
       "      <td>1143.0</td>\n",
       "      <td>85.0</td>\n",
       "    </tr>\n",
       "    <tr>\n",
       "      <th>2</th>\n",
       "      <td>36.9</td>\n",
       "      <td>9.0</td>\n",
       "      <td>36.0</td>\n",
       "      <td>29.0</td>\n",
       "      <td>193.0</td>\n",
       "      <td>694.0</td>\n",
       "      <td>995.0</td>\n",
       "      <td>31.5</td>\n",
       "    </tr>\n",
       "    <tr>\n",
       "      <th>3</th>\n",
       "      <td>39.3</td>\n",
       "      <td>27.0</td>\n",
       "      <td>10.0</td>\n",
       "      <td>52.0</td>\n",
       "      <td>389.0</td>\n",
       "      <td>105.0</td>\n",
       "      <td>2344.0</td>\n",
       "      <td>58.9</td>\n",
       "    </tr>\n",
       "    <tr>\n",
       "      <th>4</th>\n",
       "      <td>48.3</td>\n",
       "      <td>21.0</td>\n",
       "      <td>22.0</td>\n",
       "      <td>20.0</td>\n",
       "      <td>241.0</td>\n",
       "      <td>371.0</td>\n",
       "      <td>2052.0</td>\n",
       "      <td>58.9</td>\n",
       "    </tr>\n",
       "  </tbody>\n",
       "</table>\n",
       "</div>"
      ],
      "text/plain": [
       "   KLOC  SCRN  FORM  FILE  ESCRN  EFORM   EFILE    MM\n",
       "0  44.2  24.0  26.0  41.0  246.0  642.0   589.0  59.5\n",
       "1  59.0  34.0  30.0  28.0  651.0  447.0  1143.0  85.0\n",
       "2  36.9   9.0  36.0  29.0  193.0  694.0   995.0  31.5\n",
       "3  39.3  27.0  10.0  52.0  389.0  105.0  2344.0  58.9\n",
       "4  48.3  21.0  22.0  20.0  241.0  371.0  2052.0  58.9"
      ]
     },
     "execution_count": 16,
     "metadata": {},
     "output_type": "execute_result"
    }
   ],
   "source": [
    "df2.head()"
   ]
  },
  {
   "cell_type": "code",
   "execution_count": 17,
   "id": "b674761d-5776-4eb7-ac44-66d288e17469",
   "metadata": {},
   "outputs": [
    {
     "data": {
      "text/plain": [
       "KLOC     0.735055\n",
       "SCRN     0.842066\n",
       "FORM     0.626092\n",
       "FILE     0.958175\n",
       "ESCRN    0.651625\n",
       "EFORM    0.340867\n",
       "EFILE    0.975164\n",
       "dtype: float64"
      ]
     },
     "execution_count": 17,
     "metadata": {},
     "output_type": "execute_result"
    }
   ],
   "source": [
    "# Feature Selection: Step 1 -> Pearson Correlation\n",
    "df2.corrwith(df['MM']).drop(\"MM\")"
   ]
  },
  {
   "cell_type": "code",
   "execution_count": 18,
   "id": "e04921d5-ac44-4b16-b668-ea9e213fba05",
   "metadata": {},
   "outputs": [],
   "source": [
    "# From the values above, EFORM has the lowest cor with our target. We'll drop it, including FORM... just to have all the cor value be 0.65 and above\n",
    "X1 = df2.drop([\"EFORM\", \"FORM\", \"MM\"], axis=1)\n",
    "y1 = df2[\"MM\"]"
   ]
  },
  {
   "cell_type": "code",
   "execution_count": 19,
   "id": "771f75ef-8f81-411a-8457-8990edcdb427",
   "metadata": {},
   "outputs": [],
   "source": [
    "# Scale features and target\n",
    "X1_scaled = scaler_x.fit_transform(X1)\n",
    "y1_scaled = scaler_y.fit_transform(y1.values.reshape(-1, 1)).flatten()"
   ]
  },
  {
   "cell_type": "code",
   "execution_count": 20,
   "id": "02a5fdb6-a192-44db-8ec2-c2af8bffad1d",
   "metadata": {},
   "outputs": [],
   "source": [
    "# Split dataset\n",
    "X_train1, X_test1, y_train1, y_test1 = train_test_split(X1_scaled, y1_scaled, test_size=0.2, random_state=42)"
   ]
  },
  {
   "cell_type": "code",
   "execution_count": 21,
   "id": "4a9fe7d9-c3f5-4532-b769-32aa46409ac1",
   "metadata": {},
   "outputs": [
    {
     "data": {
      "text/plain": [
       "0.01244025517414928"
      ]
     },
     "execution_count": 21,
     "metadata": {},
     "output_type": "execute_result"
    }
   ],
   "source": [
    "# Running the SVR model only without JAYA optimization\n",
    "model1 = SVR(C=100, epsilon=0.2, gamma=0.005)\n",
    "model1.fit(X_train1, y_train1)\n",
    "y_pred_cor = model1.predict(X_test1)\n",
    "mse = mean_squared_error(y_test1, y_pred_cor)\n",
    "mse"
   ]
  },
  {
   "cell_type": "markdown",
   "id": "23b98e68-ecb4-4c45-ba55-03848686051f",
   "metadata": {},
   "source": [
    "- With feature selection the new mse 0.01244 compared to the previous 0.01403, shows that the model's prediction has improved a bit."
   ]
  },
  {
   "cell_type": "code",
   "execution_count": 22,
   "id": "4d72639f-4174-4ef5-bccb-59e8e68a3702",
   "metadata": {},
   "outputs": [
    {
     "name": "stdout",
     "output_type": "stream",
     "text": [
      "[[ 42.93788572]\n",
      " [104.82477247]\n",
      " [141.02564328]\n",
      " [ 29.62296468]\n",
      " [ 90.15362955]\n",
      " [ 19.99616299]]\n",
      "[[ 39. ]\n",
      " [ 55.7]\n",
      " [157. ]\n",
      " [  6. ]\n",
      " [ 54. ]\n",
      " [ 22. ]]\n",
      "mse:  637.4485107001561\n"
     ]
    }
   ],
   "source": [
    "y_cor_predr = scaler_y.inverse_transform(y_pred_cor.reshape(-1, 1))  # Reverse scaling to get the original values\n",
    "y_cor_testr = scaler_y.inverse_transform(y_test1.reshape(-1, 1))\n",
    "print(y_cor_predr[:6])\n",
    "print(y_cor_testr[:6])\n",
    "print(\"mse: \", mean_squared_error(y_cor_testr, y_cor_predr))"
   ]
  },
  {
   "cell_type": "code",
   "execution_count": 23,
   "id": "2e53acc8-7c9f-4b19-8eb0-bd8e9c971fed",
   "metadata": {},
   "outputs": [],
   "source": [
    "# Using Mutual information to see if there are any features that could be dropped also"
   ]
  },
  {
   "cell_type": "code",
   "execution_count": 24,
   "id": "ac12a5fc-f755-49f3-9ee2-cea2dcb41f77",
   "metadata": {},
   "outputs": [],
   "source": [
    "col = X1.shape[1]"
   ]
  },
  {
   "cell_type": "code",
   "execution_count": 25,
   "id": "6e168e01-0aaa-42fb-9a5a-e454c858e095",
   "metadata": {},
   "outputs": [],
   "source": [
    "from sklearn.feature_selection import SelectKBest\n",
    "from sklearn.feature_selection import mutual_info_regression"
   ]
  },
  {
   "cell_type": "code",
   "execution_count": 26,
   "id": "c6afda05-bd3c-4443-b657-102fc7e8ef30",
   "metadata": {},
   "outputs": [],
   "source": [
    "mse_list = []\n",
    "for k in range(1, col + 1):  # loop through number of features\n",
    "    selector = SelectKBest(mutual_info_regression, k=k)\n",
    "    selector.fit(X_train1, y_train1)\n",
    "\n",
    "    sel_X_train = selector.transform(X_train1)\n",
    "    sel_X_test = selector.transform(X_test1)\n",
    "\n",
    "    model1.fit(sel_X_train, y_train1)\n",
    "    kbest_preds = model1.predict(sel_X_test)\n",
    "    mse_kbest = round(mean_squared_error(y_test1, kbest_preds), 4)\n",
    "\n",
    "    mse_list.append(mse_kbest)"
   ]
  },
  {
   "cell_type": "code",
   "execution_count": 27,
   "id": "66dfdd7c-5517-45b3-9ceb-7128baa48c60",
   "metadata": {},
   "outputs": [
    {
     "data": {
      "image/png": "[encoded data removed]",
      "text/plain": [
       "<Figure size 640x480 with 1 Axes>"
      ]
     },
     "metadata": {},
     "output_type": "display_data"
    }
   ],
   "source": [
    "fig, ax = plt.subplots()\n",
    "\n",
    "x = np.arange(1, col + 1)\n",
    "y = mse_list\n",
    "\n",
    "ax.bar(x, y, width= 0.2)\n",
    "ax.set_xlabel (\"number of features selected using mutual info\")\n",
    "ax.set_ylabel (\"mse\")\n",
    "ax.set_ylim(0, 1.2)\n",
    "ax.set_xticks(np.arange(1,8))\n",
    "ax.set_xticklabels(np.arange(1, 8), fontsize=12)\n",
    "\n",
    "for i, v in enumerate(y):\n",
    "    plt.text(x=i+1, y=v+0.05, s=str(v), ha='center')\n",
    "plt.tight_layout()"
   ]
  },
  {
   "cell_type": "code",
   "execution_count": 28,
   "id": "29f77bf3-f920-43d6-ac4c-58c53dfa6c98",
   "metadata": {},
   "outputs": [
    {
     "data": {
      "text/plain": [
       "Index(['KLOC', 'SCRN', 'FILE', 'ESCRN'], dtype='object')"
      ]
     },
     "execution_count": 28,
     "metadata": {},
     "output_type": "execute_result"
    }
   ],
   "source": [
    "# top features selected\n",
    "selector = SelectKBest(mutual_info_regression, k=4)\n",
    "selector.fit(X_train1, y_train1)\n",
    "\n",
    "selected_feature_mask = selector.get_support()\n",
    "#X_scaled = pd.DataFrame(scaler_x.fit_transform(X), columns=X.columns)\n",
    "selected_features = X1.columns[selected_feature_mask]\n",
    "selected_features"
   ]
  },
  {
   "cell_type": "markdown",
   "id": "354fbbb7-b577-49ba-a6eb-feaa3a9a9d40",
   "metadata": {},
   "source": [
    "- From the plot above and comparing the mse to the first step (correlation) mse, there is no need for further feature selection"
   ]
  },
  {
   "cell_type": "code",
   "execution_count": null,
   "id": "b5b447a3-c578-40ab-b8f4-e97babd32057",
   "metadata": {},
   "outputs": [],
   "source": []
  },
  {
   "cell_type": "code",
   "execution_count": 29,
   "id": "1919404b-880b-4c58-bf19-0b12a0d70d0d",
   "metadata": {},
   "outputs": [],
   "source": [
    "# Running the Jaya-svr optimization with new selected features"
   ]
  },
  {
   "cell_type": "code",
   "execution_count": 30,
   "id": "44415e13-0d04-49c8-9cf7-294e7c18e50d",
   "metadata": {},
   "outputs": [],
   "source": [
    "def jaya_optimizer(fitness_fn, bounds, pop_size=10, iterations=100):\n",
    "    dim = len(bounds)\n",
    "    population = np.random.uniform([b[0] for b in bounds], [b[1] for b in bounds], size=(pop_size, dim))\n",
    "    mse_per_iter = []\n",
    "\n",
    "    for it in range(iterations):\n",
    "        fitness_values = [fitness_fn(ind, X_train1, y_train1) for ind in population]\n",
    "        best_idx, worst_idx = np.argmin(fitness_values), np.argmax(fitness_values)\n",
    "        best, worst = population[best_idx], population[worst_idx]\n",
    "\n",
    "        for i in range(pop_size):\n",
    "            r1, r2 = np.random.rand(dim), np.random.rand(dim)\n",
    "            new_ind = population[i] + r1 * (best - abs(population[i])) - r2 * (worst - abs(population[i]))\n",
    "            new_ind = np.clip(new_ind, [b[0] for b in bounds], [b[1] for b in bounds])\n",
    "            new_fit = fitness_fn(new_ind, X_train1, y_train1)\n",
    "            if new_fit < fitness_values[i]:\n",
    "                population[i] = new_ind\n",
    "\n",
    "        mse_per_iter.append(min(fitness_values))\n",
    "\n",
    "    final_fitness = [fitness_fn(ind, X_train1, y_train1) for ind in population]\n",
    "    best_index = np.argmin(final_fitness)\n",
    "    return population[best_index], final_fitness[best_index], mse_per_iter"
   ]
  },
  {
   "cell_type": "code",
   "execution_count": 31,
   "id": "ca3a0e91-385d-4311-96fc-70c094196856",
   "metadata": {},
   "outputs": [
    {
     "name": "stdout",
     "output_type": "stream",
     "text": [
      "Best Parameters (C, epsilon, gamma): [1.00000000e+03 5.00000000e-02 1.46661522e-03]\n",
      "Best MSE on validation set: 0.014084844105329793\n"
     ]
    }
   ],
   "source": [
    "best_params, best_mse, mse_progression = jaya_optimizer(fitness_function, bounds, pop_size=10, iterations=100)\n",
    "\n",
    "print(\"Best Parameters (C, epsilon, gamma):\", best_params)\n",
    "print(\"Best MSE on validation set:\", best_mse)"
   ]
  },
  {
   "cell_type": "code",
   "execution_count": 32,
   "id": "1f3b4ba1-084e-4734-8f9d-feddff3ce298",
   "metadata": {},
   "outputs": [
    {
     "name": "stdout",
     "output_type": "stream",
     "text": [
      "Test MSE on unseen data: 0.01204161234390925\n"
     ]
    }
   ],
   "source": [
    "# Now evaluate the best model on the test set (unseen data)\n",
    "best_model = SVR(C=best_params[0], epsilon=best_params[1], gamma=best_params[2])\n",
    "best_model.fit(X_train1, y_train1)\n",
    "y_test_pred = best_model.predict(X_test1)\n",
    "test_mse = mean_squared_error(y_test1, y_test_pred)\n",
    "print(\"Test MSE on unseen data:\", test_mse)"
   ]
  },
  {
   "cell_type": "code",
   "execution_count": 33,
   "id": "df71ed3a-d437-4a7e-b103-3a9a1cb9032b",
   "metadata": {},
   "outputs": [
    {
     "name": "stdout",
     "output_type": "stream",
     "text": [
      "[[ 63.51531584]\n",
      " [ 75.50945276]\n",
      " [128.79152446]\n",
      " [ 26.79642631]\n",
      " [ 67.58295548]\n",
      " [ 44.62778892]]\n",
      "[[ 39. ]\n",
      " [ 55.7]\n",
      " [157. ]\n",
      " [  6. ]\n",
      " [ 54. ]\n",
      " [ 22. ]]\n",
      "mse:  617.0217369016693\n"
     ]
    }
   ],
   "source": [
    "y_test_predr = scaler_y.inverse_transform(y_test_pred.reshape(-1, 1))  # Reverse scaling to get the original values\n",
    "y_testr = scaler_y.inverse_transform(y_test1.reshape(-1, 1))\n",
    "print(y_predr[:6])\n",
    "print(y_testr[:6])\n",
    "print(\"mse: \", mean_squared_error(y_testr, y_test_predr))"
   ]
  },
  {
   "cell_type": "code",
   "execution_count": null,
   "id": "c85b26e6-a46a-49d0-bffe-2349687051fa",
   "metadata": {},
   "outputs": [],
   "source": []
  },
  {
   "cell_type": "markdown",
   "id": "405b274c-df64-43ca-a6c5-7ea5af732096",
   "metadata": {},
   "source": [
    "# Final Results:\n",
    "    Based on all the test runs, this is the conclusion:\n",
    "###  Results without feature selection (MSE)\n",
    "- SVR only -> 0.014037098682665904          | reversed scale: 719.2720345809466\n",
    "- JAYA-SVR -> 0.013353536085011877          | reversed scale: 684.245746635476\n",
    "###  Results with feature selection\n",
    "- SVR only -> 0.01244025517414928           | reversed scale: 637.4485107001561\n",
    "- JAYA-SVR -> 0.01204161234390925          | reversed scale: 617.0217369016693\n",
    "\n",
    "### Using feature selection improved the model's prediction and optimizing the model using JAYA algorithm further improved the model... on this dataset\n",
    "\n",
    "## Results from the published paper, for this dataset\n",
    "- BPNN only -> 0.3067\n",
    "- SSA-BPNN -> 0.0035\n",
    "> Back Propagation Neural Network (BPNN) & Salp Swarm Algorithm (SSA)"
   ]
  },
  {
   "cell_type": "markdown",
   "id": "8762aa30-596e-45a9-b432-50d29cdfabb7",
   "metadata": {},
   "source": [
    "#### Confusion???\n",
    "Why is the result better when the dataset is scaled down but looks worse when the scaling is reversed?"
   ]
  }
 ],
 "metadata": {
  "kernelspec": {
   "display_name": "Python 3 (ipykernel)",
   "language": "python",
   "name": "python3"
  },
  "language_info": {
   "codemirror_mode": {
    "name": "ipython",
    "version": 3
   },
   "file_extension": ".py",
   "mimetype": "text/x-python",
   "name": "python",
   "nbconvert_exporter": "python",
   "pygments_lexer": "ipython3",
   "version": "3.11.7"
  }
 },
 "nbformat": 4,
 "nbformat_minor": 5
}
